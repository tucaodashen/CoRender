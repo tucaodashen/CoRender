{
 "cells": [
  {
   "cell_type": "code",
   "execution_count": null,
   "id": "12536529-6fd6-4376-855c-8cc76278ce8d",
   "metadata": {},
   "outputs": [],
   "source": [
    "!python -m pip install --upgrade pip\n",
    "!pip install gradio\n",
    "!pip install wget\n",
    "!pip install faker -i https://pypi.tuna.tsinghua.edu.cn/simple\n",
    "\n",
    "!add-apt-repository main -y\n",
    "!add-apt-repository universe -y\n",
    "!add-apt-repository restricted -y\n",
    "!add-apt-repository multiverse -y\n",
    "!apt update -y\n",
    "!apt install ffmpeg -y"
   ]
  },
  {
   "cell_type": "code",
   "execution_count": null,
   "id": "1306e92f-e70d-456d-810d-5cf1c54f9833",
   "metadata": {},
   "outputs": [],
   "source": [
    "!git clone https://github.com/tucaodashen/CoRender.git"
   ]
  },
  {
   "cell_type": "code",
   "execution_count": null,
   "id": "82fafa2f-5b75-40fa-b6a2-b42ddd887acb",
   "metadata": {},
   "outputs": [],
   "source": [
    "!cd CoRender && python main.py"
   ]
  },
  {
   "cell_type": "code",
   "execution_count": null,
   "id": "5b460187-3c44-4afc-b9e4-79febc63c91f",
   "metadata": {},
   "outputs": [],
   "source": []
  },
  {
   "cell_type": "code",
   "execution_count": null,
   "id": "fe827dbe-bb96-430f-9789-5165e6dfb810",
   "metadata": {},
   "outputs": [],
   "source": []
  }
 ],
 "metadata": {
  "kernelspec": {
   "display_name": "Python 3 (ipykernel)",
   "language": "python",
   "name": "python3"
  },
  "language_info": {
   "codemirror_mode": {
    "name": "ipython",
    "version": 3
   },
   "file_extension": ".py",
   "mimetype": "text/x-python",
   "name": "python",
   "nbconvert_exporter": "python",
   "pygments_lexer": "ipython3",
   "version": "3.8.10"
  }
 },
 "nbformat": 4,
 "nbformat_minor": 5
}
